{
  "nbformat": 4,
  "nbformat_minor": 0,
  "metadata": {
    "colab": {
      "name": "Sundar  Alsande",
      "provenance": [],
      "collapsed_sections": [],
      "toc_visible": true
    },
    "kernelspec": {
      "name": "python3",
      "display_name": "Python 3"
    },
    "language_info": {
      "name": "python"
    }
  },
  "cells": [
    {
      "cell_type": "code",
      "metadata": {
        "id": "2bLD1WRFxxoQ"
      },
      "source": [
        "## IMPORTING THE DATASET\n",
        "from keras.datasets import mnist\n",
        "data = mnist.load_data()\n"
      ],
      "execution_count": 35,
      "outputs": []
    },
    {
      "cell_type": "code",
      "metadata": {
        "id": "tG6OE4CWyVK-"
      },
      "source": [
        "(X_train, y_train) ,(X_test, y_test) = data"
      ],
      "execution_count": 36,
      "outputs": []
    },
    {
      "cell_type": "code",
      "metadata": {
        "colab": {
          "base_uri": "https://localhost:8080/"
        },
        "id": "1QMXrxB3x0lE",
        "outputId": "d15de6d9-6032-4a48-f2a3-ec538ff0d050"
      },
      "source": [
        "# shape of trian data\n",
        "X_train[0].shape"
      ],
      "execution_count": 37,
      "outputs": [
        {
          "output_type": "execute_result",
          "data": {
            "text/plain": [
              "(28, 28)"
            ]
          },
          "metadata": {
            "tags": []
          },
          "execution_count": 37
        }
      ]
    },
    {
      "cell_type": "code",
      "metadata": {
        "id": "z2Siwiu8zS-K"
      },
      "source": [
        "# Reshape the training data\n",
        "X_train = X_train.reshape((X_train.shape[0],28*28)).astype('float32')\n",
        "X_test = X_test.reshape((X_test.shape[0],28*28)).astype('float32')\n",
        "\n"
      ],
      "execution_count": 38,
      "outputs": []
    },
    {
      "cell_type": "code",
      "metadata": {
        "id": "iBlcqUjRz6AR"
      },
      "source": [
        "#Normalization values from 0-255 to 0-1\n",
        "X_train = X_train/255\n",
        "X_test = X_test/255"
      ],
      "execution_count": 40,
      "outputs": []
    },
    {
      "cell_type": "code",
      "metadata": {
        "colab": {
          "base_uri": "https://localhost:8080/"
        },
        "id": "i_JvYh4d04aQ",
        "outputId": "68a6e69f-3d41-4ebf-c9a9-eb86e81ce823"
      },
      "source": [
        "from keras.utils import np_utils\n",
        "print(y_test.shape)\n",
        " \n",
        "y_train = np_utils.to_categorical(y_train)\n",
        "y_test = np_utils.to_categorical(y_test)\n",
        "num_classes = y_test.shape[1]\n",
        "print(y_test.shape)\n"
      ],
      "execution_count": 41,
      "outputs": [
        {
          "output_type": "stream",
          "text": [
            "(10000,)\n",
            "(10000, 10)\n"
          ],
          "name": "stdout"
        }
      ]
    },
    {
      "cell_type": "code",
      "metadata": {
        "id": "2vzKhxjf2rsN"
      },
      "source": [
        "from keras.models import Sequential\n",
        "from keras.layers import Dense\n"
      ],
      "execution_count": 43,
      "outputs": []
    },
    {
      "cell_type": "code",
      "metadata": {
        "id": "9u4jkQy13Kca"
      },
      "source": [
        " model = Sequential()\n",
        " model.add(Dense(32,input_dim=28*28,activation='relu'))\n",
        " model.add(Dense(64,activation='relu'))\n",
        " model.add(Dense(10,activation='relu'))\n"
      ],
      "execution_count": 44,
      "outputs": []
    },
    {
      "cell_type": "code",
      "metadata": {
        "id": "glx6PWUM5s1T"
      },
      "source": [
        "# copile model\n",
        "model.compile(loss='categorical_crossentropy',optimizer='adam',metrics=['accuracy'])\n"
      ],
      "execution_count": 45,
      "outputs": []
    },
    {
      "cell_type": "code",
      "metadata": {
        "id": "cW5D-9So6ieD",
        "colab": {
          "base_uri": "https://localhost:8080/"
        },
        "outputId": "c281e108-5bca-42c4-aa28-a7358d6c9cf4"
      },
      "source": [
        "#print model summary\n",
        "model.summary()"
      ],
      "execution_count": 46,
      "outputs": [
        {
          "output_type": "stream",
          "text": [
            "Model: \"sequential_1\"\n",
            "_________________________________________________________________\n",
            "Layer (type)                 Output Shape              Param #   \n",
            "=================================================================\n",
            "dense_3 (Dense)              (None, 32)                25120     \n",
            "_________________________________________________________________\n",
            "dense_4 (Dense)              (None, 64)                2112      \n",
            "_________________________________________________________________\n",
            "dense_5 (Dense)              (None, 10)                650       \n",
            "=================================================================\n",
            "Total params: 27,882\n",
            "Trainable params: 27,882\n",
            "Non-trainable params: 0\n",
            "_________________________________________________________________\n"
          ],
          "name": "stdout"
        }
      ]
    },
    {
      "cell_type": "code",
      "metadata": {
        "id": "SiDoBpA26s-_",
        "colab": {
          "base_uri": "https://localhost:8080/"
        },
        "outputId": "b8b3aaaf-f7c5-46ee-c285-a76b1d75e017"
      },
      "source": [
        "# Train model\n",
        "model.fit(X_train,y_train, epochs=10, batch_size=100)"
      ],
      "execution_count": 47,
      "outputs": [
        {
          "output_type": "stream",
          "text": [
            "Epoch 1/10\n",
            "600/600 [==============================] - 2s 3ms/step - loss: nan - accuracy: 0.2285\n",
            "Epoch 2/10\n",
            "600/600 [==============================] - 2s 3ms/step - loss: nan - accuracy: 0.1013\n",
            "Epoch 3/10\n",
            "600/600 [==============================] - 2s 3ms/step - loss: nan - accuracy: 0.0985\n",
            "Epoch 4/10\n",
            "600/600 [==============================] - 2s 3ms/step - loss: nan - accuracy: 0.1001\n",
            "Epoch 5/10\n",
            "600/600 [==============================] - 2s 3ms/step - loss: nan - accuracy: 0.0980\n",
            "Epoch 6/10\n",
            "600/600 [==============================] - 2s 3ms/step - loss: nan - accuracy: 0.0974\n",
            "Epoch 7/10\n",
            "600/600 [==============================] - 2s 3ms/step - loss: nan - accuracy: 0.0970\n",
            "Epoch 8/10\n",
            "600/600 [==============================] - 2s 3ms/step - loss: nan - accuracy: 0.0984\n",
            "Epoch 9/10\n",
            "600/600 [==============================] - 2s 3ms/step - loss: nan - accuracy: 0.0993\n",
            "Epoch 10/10\n",
            "600/600 [==============================] - 2s 3ms/step - loss: nan - accuracy: 0.0987\n"
          ],
          "name": "stdout"
        },
        {
          "output_type": "execute_result",
          "data": {
            "text/plain": [
              "<tensorflow.python.keras.callbacks.History at 0x7f68efab3810>"
            ]
          },
          "metadata": {
            "tags": []
          },
          "execution_count": 47
        }
      ]
    },
    {
      "cell_type": "code",
      "metadata": {
        "id": "zeTxOdlK7OjZ",
        "colab": {
          "base_uri": "https://localhost:8080/"
        },
        "outputId": "bfa4d783-14d5-4b54-da6e-b3a65fec0e32"
      },
      "source": [
        "scores = model.evaluate(X_test,y_test)\n",
        "print(scores)"
      ],
      "execution_count": 48,
      "outputs": [
        {
          "output_type": "stream",
          "text": [
            "313/313 [==============================] - 1s 1ms/step - loss: nan - accuracy: 0.0980\n",
            "[nan, 0.09799999743700027]\n"
          ],
          "name": "stdout"
        }
      ]
    }
  ]
}